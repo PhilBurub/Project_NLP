{
  "nbformat": 4,
  "nbformat_minor": 0,
  "metadata": {
    "colab": {
      "provenance": []
    },
    "kernelspec": {
      "name": "python3",
      "display_name": "Python 3"
    },
    "language_info": {
      "name": "python"
    }
  },
  "cells": [
    {
      "cell_type": "markdown",
      "source": [
        "# Эксперименты с тональным словарем и rule-based методами"
      ],
      "metadata": {
        "id": "x9p2zhXkWPZO"
      }
    },
    {
      "cell_type": "markdown",
      "source": [
        "## Функции обработки текста"
      ],
      "metadata": {
        "id": "ZABgzY31Qd14"
      }
    },
    {
      "cell_type": "markdown",
      "source": [
        "### Исправление опечаток"
      ],
      "metadata": {
        "id": "rx80Pl7fP5Rm"
      }
    },
    {
      "cell_type": "code",
      "source": [
        "!pip install pyaspeller"
      ],
      "metadata": {
        "colab": {
          "base_uri": "https://localhost:8080/"
        },
        "id": "CWyWWcV7QdGC",
        "outputId": "4788cae7-4151-4d13-de4b-2f81d3383973"
      },
      "execution_count": 86,
      "outputs": [
        {
          "output_type": "stream",
          "name": "stdout",
          "text": [
            "Requirement already satisfied: pyaspeller in /usr/local/lib/python3.10/dist-packages (2.0.0)\n",
            "Requirement already satisfied: requests<3.0.0,>=2.27.1 in /usr/local/lib/python3.10/dist-packages (from pyaspeller) (2.31.0)\n",
            "Requirement already satisfied: charset-normalizer<4,>=2 in /usr/local/lib/python3.10/dist-packages (from requests<3.0.0,>=2.27.1->pyaspeller) (3.3.2)\n",
            "Requirement already satisfied: idna<4,>=2.5 in /usr/local/lib/python3.10/dist-packages (from requests<3.0.0,>=2.27.1->pyaspeller) (3.6)\n",
            "Requirement already satisfied: urllib3<3,>=1.21.1 in /usr/local/lib/python3.10/dist-packages (from requests<3.0.0,>=2.27.1->pyaspeller) (2.0.7)\n",
            "Requirement already satisfied: certifi>=2017.4.17 in /usr/local/lib/python3.10/dist-packages (from requests<3.0.0,>=2.27.1->pyaspeller) (2023.11.17)\n"
          ]
        }
      ]
    },
    {
      "cell_type": "code",
      "source": [
        "from pyaspeller import YandexSpeller\n",
        "\n",
        "def spellcheck(text):\n",
        "    try:\n",
        "        speller = YandexSpeller()\n",
        "        changes = {change['word']: change['s'][0] for change in speller.spell(text)}\n",
        "        for word, suggestion in changes.items():\n",
        "            text = text.replace(word, suggestion)\n",
        "        return text\n",
        "    except:\n",
        "        return 'error'"
      ],
      "metadata": {
        "id": "ewBe5-AOQiLo"
      },
      "execution_count": 87,
      "outputs": []
    },
    {
      "cell_type": "code",
      "source": [
        "spellcheck('лучьше')"
      ],
      "metadata": {
        "colab": {
          "base_uri": "https://localhost:8080/",
          "height": 35
        },
        "id": "0C7TnePTQs88",
        "outputId": "07e13325-5426-4546-8757-c9e215e04696"
      },
      "execution_count": 88,
      "outputs": [
        {
          "output_type": "execute_result",
          "data": {
            "text/plain": [
              "'лучше'"
            ],
            "application/vnd.google.colaboratory.intrinsic+json": {
              "type": "string"
            }
          },
          "metadata": {},
          "execution_count": 88
        }
      ]
    },
    {
      "cell_type": "markdown",
      "source": [
        "### Замена ё  → е"
      ],
      "metadata": {
        "id": "jo_HFuNKQeR9"
      }
    },
    {
      "cell_type": "code",
      "source": [
        "def delete_yo(text):\n",
        "    text = text.lower()\n",
        "    text = text.replace('ё', 'е')\n",
        "    return text"
      ],
      "metadata": {
        "id": "EGFmZeTaRL1_"
      },
      "execution_count": 89,
      "outputs": []
    },
    {
      "cell_type": "code",
      "source": [
        "delete_yo('ёлка')"
      ],
      "metadata": {
        "colab": {
          "base_uri": "https://localhost:8080/",
          "height": 35
        },
        "id": "crE3t0YbTHSD",
        "outputId": "c7dd1742-9851-4636-c34f-b717f39bbefd"
      },
      "execution_count": 90,
      "outputs": [
        {
          "output_type": "execute_result",
          "data": {
            "text/plain": [
              "'елка'"
            ],
            "application/vnd.google.colaboratory.intrinsic+json": {
              "type": "string"
            }
          },
          "metadata": {},
          "execution_count": 90
        }
      ]
    },
    {
      "cell_type": "markdown",
      "source": [
        "## Тональный словарь для русского"
      ],
      "metadata": {
        "id": "rbUBaLr9J38W"
      }
    },
    {
      "cell_type": "markdown",
      "source": [
        "### Для определения тональности отдельных слов был взят тональный словарь для русского [Карта слов](https://github.com/dkulagin/kartaslov/tree/master/dataset/kartaslovsent)."
      ],
      "metadata": {
        "id": "0SOA9EzuQoNp"
      }
    },
    {
      "cell_type": "code",
      "execution_count": 91,
      "metadata": {
        "id": "kDqghqfOxDhR"
      },
      "outputs": [],
      "source": [
        "import csv"
      ]
    },
    {
      "cell_type": "code",
      "source": [
        "from google.colab import files\n",
        "uploaded = files.upload()"
      ],
      "metadata": {
        "colab": {
          "base_uri": "https://localhost:8080/",
          "height": 73
        },
        "id": "ILaZ01-UpkR6",
        "outputId": "84f4d852-c04c-4fc8-b1ef-5f1a94e37c0c"
      },
      "execution_count": 92,
      "outputs": [
        {
          "output_type": "display_data",
          "data": {
            "text/plain": [
              "<IPython.core.display.HTML object>"
            ],
            "text/html": [
              "\n",
              "     <input type=\"file\" id=\"files-ab0c9b05-c98b-4641-a692-1a9f798ed69b\" name=\"files[]\" multiple disabled\n",
              "        style=\"border:none\" />\n",
              "     <output id=\"result-ab0c9b05-c98b-4641-a692-1a9f798ed69b\">\n",
              "      Upload widget is only available when the cell has been executed in the\n",
              "      current browser session. Please rerun this cell to enable.\n",
              "      </output>\n",
              "      <script>// Copyright 2017 Google LLC\n",
              "//\n",
              "// Licensed under the Apache License, Version 2.0 (the \"License\");\n",
              "// you may not use this file except in compliance with the License.\n",
              "// You may obtain a copy of the License at\n",
              "//\n",
              "//      http://www.apache.org/licenses/LICENSE-2.0\n",
              "//\n",
              "// Unless required by applicable law or agreed to in writing, software\n",
              "// distributed under the License is distributed on an \"AS IS\" BASIS,\n",
              "// WITHOUT WARRANTIES OR CONDITIONS OF ANY KIND, either express or implied.\n",
              "// See the License for the specific language governing permissions and\n",
              "// limitations under the License.\n",
              "\n",
              "/**\n",
              " * @fileoverview Helpers for google.colab Python module.\n",
              " */\n",
              "(function(scope) {\n",
              "function span(text, styleAttributes = {}) {\n",
              "  const element = document.createElement('span');\n",
              "  element.textContent = text;\n",
              "  for (const key of Object.keys(styleAttributes)) {\n",
              "    element.style[key] = styleAttributes[key];\n",
              "  }\n",
              "  return element;\n",
              "}\n",
              "\n",
              "// Max number of bytes which will be uploaded at a time.\n",
              "const MAX_PAYLOAD_SIZE = 100 * 1024;\n",
              "\n",
              "function _uploadFiles(inputId, outputId) {\n",
              "  const steps = uploadFilesStep(inputId, outputId);\n",
              "  const outputElement = document.getElementById(outputId);\n",
              "  // Cache steps on the outputElement to make it available for the next call\n",
              "  // to uploadFilesContinue from Python.\n",
              "  outputElement.steps = steps;\n",
              "\n",
              "  return _uploadFilesContinue(outputId);\n",
              "}\n",
              "\n",
              "// This is roughly an async generator (not supported in the browser yet),\n",
              "// where there are multiple asynchronous steps and the Python side is going\n",
              "// to poll for completion of each step.\n",
              "// This uses a Promise to block the python side on completion of each step,\n",
              "// then passes the result of the previous step as the input to the next step.\n",
              "function _uploadFilesContinue(outputId) {\n",
              "  const outputElement = document.getElementById(outputId);\n",
              "  const steps = outputElement.steps;\n",
              "\n",
              "  const next = steps.next(outputElement.lastPromiseValue);\n",
              "  return Promise.resolve(next.value.promise).then((value) => {\n",
              "    // Cache the last promise value to make it available to the next\n",
              "    // step of the generator.\n",
              "    outputElement.lastPromiseValue = value;\n",
              "    return next.value.response;\n",
              "  });\n",
              "}\n",
              "\n",
              "/**\n",
              " * Generator function which is called between each async step of the upload\n",
              " * process.\n",
              " * @param {string} inputId Element ID of the input file picker element.\n",
              " * @param {string} outputId Element ID of the output display.\n",
              " * @return {!Iterable<!Object>} Iterable of next steps.\n",
              " */\n",
              "function* uploadFilesStep(inputId, outputId) {\n",
              "  const inputElement = document.getElementById(inputId);\n",
              "  inputElement.disabled = false;\n",
              "\n",
              "  const outputElement = document.getElementById(outputId);\n",
              "  outputElement.innerHTML = '';\n",
              "\n",
              "  const pickedPromise = new Promise((resolve) => {\n",
              "    inputElement.addEventListener('change', (e) => {\n",
              "      resolve(e.target.files);\n",
              "    });\n",
              "  });\n",
              "\n",
              "  const cancel = document.createElement('button');\n",
              "  inputElement.parentElement.appendChild(cancel);\n",
              "  cancel.textContent = 'Cancel upload';\n",
              "  const cancelPromise = new Promise((resolve) => {\n",
              "    cancel.onclick = () => {\n",
              "      resolve(null);\n",
              "    };\n",
              "  });\n",
              "\n",
              "  // Wait for the user to pick the files.\n",
              "  const files = yield {\n",
              "    promise: Promise.race([pickedPromise, cancelPromise]),\n",
              "    response: {\n",
              "      action: 'starting',\n",
              "    }\n",
              "  };\n",
              "\n",
              "  cancel.remove();\n",
              "\n",
              "  // Disable the input element since further picks are not allowed.\n",
              "  inputElement.disabled = true;\n",
              "\n",
              "  if (!files) {\n",
              "    return {\n",
              "      response: {\n",
              "        action: 'complete',\n",
              "      }\n",
              "    };\n",
              "  }\n",
              "\n",
              "  for (const file of files) {\n",
              "    const li = document.createElement('li');\n",
              "    li.append(span(file.name, {fontWeight: 'bold'}));\n",
              "    li.append(span(\n",
              "        `(${file.type || 'n/a'}) - ${file.size} bytes, ` +\n",
              "        `last modified: ${\n",
              "            file.lastModifiedDate ? file.lastModifiedDate.toLocaleDateString() :\n",
              "                                    'n/a'} - `));\n",
              "    const percent = span('0% done');\n",
              "    li.appendChild(percent);\n",
              "\n",
              "    outputElement.appendChild(li);\n",
              "\n",
              "    const fileDataPromise = new Promise((resolve) => {\n",
              "      const reader = new FileReader();\n",
              "      reader.onload = (e) => {\n",
              "        resolve(e.target.result);\n",
              "      };\n",
              "      reader.readAsArrayBuffer(file);\n",
              "    });\n",
              "    // Wait for the data to be ready.\n",
              "    let fileData = yield {\n",
              "      promise: fileDataPromise,\n",
              "      response: {\n",
              "        action: 'continue',\n",
              "      }\n",
              "    };\n",
              "\n",
              "    // Use a chunked sending to avoid message size limits. See b/62115660.\n",
              "    let position = 0;\n",
              "    do {\n",
              "      const length = Math.min(fileData.byteLength - position, MAX_PAYLOAD_SIZE);\n",
              "      const chunk = new Uint8Array(fileData, position, length);\n",
              "      position += length;\n",
              "\n",
              "      const base64 = btoa(String.fromCharCode.apply(null, chunk));\n",
              "      yield {\n",
              "        response: {\n",
              "          action: 'append',\n",
              "          file: file.name,\n",
              "          data: base64,\n",
              "        },\n",
              "      };\n",
              "\n",
              "      let percentDone = fileData.byteLength === 0 ?\n",
              "          100 :\n",
              "          Math.round((position / fileData.byteLength) * 100);\n",
              "      percent.textContent = `${percentDone}% done`;\n",
              "\n",
              "    } while (position < fileData.byteLength);\n",
              "  }\n",
              "\n",
              "  // All done.\n",
              "  yield {\n",
              "    response: {\n",
              "      action: 'complete',\n",
              "    }\n",
              "  };\n",
              "}\n",
              "\n",
              "scope.google = scope.google || {};\n",
              "scope.google.colab = scope.google.colab || {};\n",
              "scope.google.colab._files = {\n",
              "  _uploadFiles,\n",
              "  _uploadFilesContinue,\n",
              "};\n",
              "})(self);\n",
              "</script> "
            ]
          },
          "metadata": {}
        },
        {
          "output_type": "stream",
          "name": "stdout",
          "text": [
            "Saving kartaslovsent.csv to kartaslovsent (1).csv\n"
          ]
        }
      ]
    },
    {
      "cell_type": "code",
      "source": [
        "with open('kartaslovsent.csv', newline='') as csvfile:\n",
        "    spamreader = csv.reader(csvfile, delimiter=';')\n",
        "    data = []\n",
        "    for row in spamreader:\n",
        "        data.append(row)"
      ],
      "metadata": {
        "id": "zjOAnYTzpkUh"
      },
      "execution_count": 93,
      "outputs": []
    },
    {
      "cell_type": "code",
      "source": [
        "data[:5]"
      ],
      "metadata": {
        "colab": {
          "base_uri": "https://localhost:8080/"
        },
        "id": "v5itBqK3pkXI",
        "outputId": "899045e5-13c9-4e7f-d310-a367f2adc77d"
      },
      "execution_count": 94,
      "outputs": [
        {
          "output_type": "execute_result",
          "data": {
            "text/plain": [
              "[['term',\n",
              "  'tag',\n",
              "  'value',\n",
              "  'pstv',\n",
              "  'ngtv',\n",
              "  'neut',\n",
              "  'dunno',\n",
              "  'pstvNgtvDisagreementRatio'],\n",
              " ['абажур', 'NEUT', '0.08', '0.185', '0.037', '0.58', '0.198', '0.0'],\n",
              " ['аббатство', 'NEUT', '0.1', '0.192', '0.038', '0.578', '0.192', '0.0'],\n",
              " ['аббревиатура', 'NEUT', '0.08', '0.196', '0.0', '0.63', '0.174', '0.0'],\n",
              " ['абзац', 'NEUT', '0.0', '0.137', '0.0', '0.706', '0.157', '0.0']]"
            ]
          },
          "metadata": {},
          "execution_count": 94
        }
      ]
    },
    {
      "cell_type": "code",
      "source": [
        "len(data)"
      ],
      "metadata": {
        "id": "D4PVe94KpkZ0",
        "colab": {
          "base_uri": "https://localhost:8080/"
        },
        "outputId": "cf90214e-1dc3-45fa-e052-ab81830b3773"
      },
      "execution_count": 95,
      "outputs": [
        {
          "output_type": "execute_result",
          "data": {
            "text/plain": [
              "46128"
            ]
          },
          "metadata": {},
          "execution_count": 95
        }
      ]
    },
    {
      "cell_type": "code",
      "source": [
        "# замняем ё на е в словаре (в отзывах и так нет ё)\n",
        "dct_sentiment = {}\n",
        "for i in data:\n",
        "  dct_sentiment[delete_yo(i[0])] = i[1:]"
      ],
      "metadata": {
        "id": "_4zuZVmZJLqN"
      },
      "execution_count": 96,
      "outputs": []
    },
    {
      "cell_type": "code",
      "source": [
        "dct_sentiment['елка']"
      ],
      "metadata": {
        "colab": {
          "base_uri": "https://localhost:8080/"
        },
        "id": "QrYEKqbRJLwV",
        "outputId": "4873a51c-9fca-4745-a173-b24872f8f14f"
      },
      "execution_count": 97,
      "outputs": [
        {
          "output_type": "execute_result",
          "data": {
            "text/plain": [
              "['PSTV', '0.59', '0.492', '0.033', '0.385', '0.09', '0.0']"
            ]
          },
          "metadata": {},
          "execution_count": 97
        }
      ]
    },
    {
      "cell_type": "markdown",
      "source": [
        "## Отзывы"
      ],
      "metadata": {
        "id": "lrUPfdY1J8wU"
      }
    },
    {
      "cell_type": "code",
      "source": [
        "import pandas as pd\n",
        "from nltk.tokenize import sent_tokenize\n",
        "import numpy as np\n",
        "import nltk\n",
        "\n",
        "nltk.download('punkt')"
      ],
      "metadata": {
        "colab": {
          "base_uri": "https://localhost:8080/"
        },
        "id": "WKI2fxcCJiPR",
        "outputId": "6d7ea8b8-8b2b-4466-d80a-6e9a301df444"
      },
      "execution_count": 98,
      "outputs": [
        {
          "output_type": "stream",
          "name": "stderr",
          "text": [
            "[nltk_data] Downloading package punkt to /root/nltk_data...\n",
            "[nltk_data]   Package punkt is already up-to-date!\n"
          ]
        },
        {
          "output_type": "execute_result",
          "data": {
            "text/plain": [
              "True"
            ]
          },
          "metadata": {},
          "execution_count": 98
        }
      ]
    },
    {
      "cell_type": "code",
      "source": [
        "from torch.utils.data import Dataset, DataLoader\n",
        "import torch\n",
        "import warnings"
      ],
      "metadata": {
        "id": "-k_V9c4XLsT6"
      },
      "execution_count": 99,
      "outputs": []
    },
    {
      "cell_type": "code",
      "source": [
        "ans = pd.read_csv('https://raw.githubusercontent.com/PhilBurub/NLPcourse_HSE/main/train_aspects.txt', header=None, delimiter='\\t', index_col=0,\n",
        "                  names=['aspect', 'entity', 'start', 'end', 'sentiment'])\n",
        "texts = pd.read_csv('https://raw.githubusercontent.com/PhilBurub/NLPcourse_HSE/main/train_reviews.txt', header=None, delimiter='\\t', index_col=0,\n",
        "                    names=['text'])"
      ],
      "metadata": {
        "id": "wOY6EZUtJ-te"
      },
      "execution_count": 100,
      "outputs": []
    },
    {
      "cell_type": "code",
      "source": [
        "def boudaries(id_, text):\n",
        "  out = []\n",
        "  new_text = text\n",
        "  cur = 0\n",
        "  for sent in sent_tokenize(text):\n",
        "    start = new_text.find(sent)\n",
        "    end = start + len(sent)\n",
        "    out.append((id_, sent, cur + start, cur + end))\n",
        "    cur += end\n",
        "    new_text = new_text[end:]\n",
        "  return pd.DataFrame(out, columns=['id', 'text', 'start', 'end'])"
      ],
      "metadata": {
        "id": "bwt3h-fTMR_U"
      },
      "execution_count": 101,
      "outputs": []
    },
    {
      "cell_type": "code",
      "source": [
        "class ContextDataset(Dataset):\n",
        "  def __init__(self, texts, outputs):\n",
        "\n",
        "    new = pd.DataFrame()\n",
        "    for id_, text in texts.iterrows():\n",
        "      new = pd.concat((new, boudaries(id_, text['text'])))\n",
        "\n",
        "    out = []\n",
        "    for text_id, row in outputs.iterrows():\n",
        "      slice_ = new[(new['id'] == text_id) & (new['start'] <= row['start']) & (new['end'] >= row['end'])]\n",
        "      if len(slice_) == 0:\n",
        "        print(row, '0')\n",
        "        continue\n",
        "      if len(slice_) > 1:\n",
        "        print(row, '>1')\n",
        "        continue\n",
        "      out.append((text_id, row['entity'], row['aspect'], slice_['text'].item(), row['sentiment']))\n",
        "    self.contexts = pd.DataFrame(out, columns=['id', 'input', 'aspect', 'context', 'sentiment'])\n",
        "\n",
        "    self.map_sent = {0: -1, 'negative': 0, 'neutral': 1, 'positive': 2,\n",
        "                     'both': 3}\n",
        "    self.map_asp = {0: -1, 'Food': 0, 'Interior': 1, 'Price': 2,\n",
        "                    'Service': 3, 'Whole': 4}\n",
        "\n",
        "  def __len__(self):\n",
        "    return len(self.contexts)\n",
        "\n",
        "  def __getitem__(self, idx):\n",
        "    if isinstance(idx, slice):\n",
        "      one = False\n",
        "    else:\n",
        "      one = True\n",
        "\n",
        "    row = self.contexts.loc[idx]\n",
        "    with warnings.catch_warnings():\n",
        "      warnings.simplefilter(\"ignore\")\n",
        "      if one:\n",
        "        row.loc['CLS'] = '[CLS]'\n",
        "      else:\n",
        "        row.loc[:, 'CLS'] = '[CLS]'\n",
        "    sent = row[['input', 'CLS', 'context']].values\n",
        "    sentence = ' '.join(sent) if one else list(map(lambda x: ' '.join(x), sent))\n",
        "    aspect = [self.map_asp.get(row['aspect'])] if one else \\\n",
        "                              row['aspect'].apply(self.map_asp.get).tolist()\n",
        "    sentiment = [self.map_sent.get(row['sentiment'])] if one else \\\n",
        "                              row['sentiment'].apply(self.map_sent.get).tolist()\n",
        "    return sentence, torch.tensor(aspect, dtype=torch.int32), torch.tensor(sentiment, dtype=torch.int32)"
      ],
      "metadata": {
        "id": "pdQZm7THJ-wH"
      },
      "execution_count": 102,
      "outputs": []
    },
    {
      "cell_type": "code",
      "source": [
        "train_set = ContextDataset(texts, ans)"
      ],
      "metadata": {
        "id": "0JpqewrtJ-zW"
      },
      "execution_count": 103,
      "outputs": []
    },
    {
      "cell_type": "code",
      "source": [
        "train_set.contexts.head(5)"
      ],
      "metadata": {
        "colab": {
          "base_uri": "https://localhost:8080/",
          "height": 206
        },
        "id": "d5X9Rmf4LxDb",
        "outputId": "601de21e-a730-425b-fe92-48776aeb5738"
      },
      "execution_count": 104,
      "outputs": [
        {
          "output_type": "execute_result",
          "data": {
            "text/plain": [
              "     id               input   aspect  \\\n",
              "0  3976           ресторане    Whole   \n",
              "1  3976          ресторанах    Whole   \n",
              "2  3976           ресторане    Whole   \n",
              "3  3976  Столик бронировали  Service   \n",
              "4  3976       администратор  Service   \n",
              "\n",
              "                                             context sentiment  \n",
              "0  Решил написать отзыв о ресторане в котором отм...   neutral  \n",
              "1  Решил написать отзыв о ресторане в котором отм...   neutral  \n",
              "2                             Но теперь о ресторане.   neutral  \n",
              "3  Столик бронировали заранее и сделали так как п...   neutral  \n",
              "4  Столик бронировали заранее и сделали так как п...  positive  "
            ],
            "text/html": [
              "\n",
              "  <div id=\"df-ef6cd58f-3981-443e-bcc3-6f70ebd5fc4e\" class=\"colab-df-container\">\n",
              "    <div>\n",
              "<style scoped>\n",
              "    .dataframe tbody tr th:only-of-type {\n",
              "        vertical-align: middle;\n",
              "    }\n",
              "\n",
              "    .dataframe tbody tr th {\n",
              "        vertical-align: top;\n",
              "    }\n",
              "\n",
              "    .dataframe thead th {\n",
              "        text-align: right;\n",
              "    }\n",
              "</style>\n",
              "<table border=\"1\" class=\"dataframe\">\n",
              "  <thead>\n",
              "    <tr style=\"text-align: right;\">\n",
              "      <th></th>\n",
              "      <th>id</th>\n",
              "      <th>input</th>\n",
              "      <th>aspect</th>\n",
              "      <th>context</th>\n",
              "      <th>sentiment</th>\n",
              "    </tr>\n",
              "  </thead>\n",
              "  <tbody>\n",
              "    <tr>\n",
              "      <th>0</th>\n",
              "      <td>3976</td>\n",
              "      <td>ресторане</td>\n",
              "      <td>Whole</td>\n",
              "      <td>Решил написать отзыв о ресторане в котором отм...</td>\n",
              "      <td>neutral</td>\n",
              "    </tr>\n",
              "    <tr>\n",
              "      <th>1</th>\n",
              "      <td>3976</td>\n",
              "      <td>ресторанах</td>\n",
              "      <td>Whole</td>\n",
              "      <td>Решил написать отзыв о ресторане в котором отм...</td>\n",
              "      <td>neutral</td>\n",
              "    </tr>\n",
              "    <tr>\n",
              "      <th>2</th>\n",
              "      <td>3976</td>\n",
              "      <td>ресторане</td>\n",
              "      <td>Whole</td>\n",
              "      <td>Но теперь о ресторане.</td>\n",
              "      <td>neutral</td>\n",
              "    </tr>\n",
              "    <tr>\n",
              "      <th>3</th>\n",
              "      <td>3976</td>\n",
              "      <td>Столик бронировали</td>\n",
              "      <td>Service</td>\n",
              "      <td>Столик бронировали заранее и сделали так как п...</td>\n",
              "      <td>neutral</td>\n",
              "    </tr>\n",
              "    <tr>\n",
              "      <th>4</th>\n",
              "      <td>3976</td>\n",
              "      <td>администратор</td>\n",
              "      <td>Service</td>\n",
              "      <td>Столик бронировали заранее и сделали так как п...</td>\n",
              "      <td>positive</td>\n",
              "    </tr>\n",
              "  </tbody>\n",
              "</table>\n",
              "</div>\n",
              "    <div class=\"colab-df-buttons\">\n",
              "\n",
              "  <div class=\"colab-df-container\">\n",
              "    <button class=\"colab-df-convert\" onclick=\"convertToInteractive('df-ef6cd58f-3981-443e-bcc3-6f70ebd5fc4e')\"\n",
              "            title=\"Convert this dataframe to an interactive table.\"\n",
              "            style=\"display:none;\">\n",
              "\n",
              "  <svg xmlns=\"http://www.w3.org/2000/svg\" height=\"24px\" viewBox=\"0 -960 960 960\">\n",
              "    <path d=\"M120-120v-720h720v720H120Zm60-500h600v-160H180v160Zm220 220h160v-160H400v160Zm0 220h160v-160H400v160ZM180-400h160v-160H180v160Zm440 0h160v-160H620v160ZM180-180h160v-160H180v160Zm440 0h160v-160H620v160Z\"/>\n",
              "  </svg>\n",
              "    </button>\n",
              "\n",
              "  <style>\n",
              "    .colab-df-container {\n",
              "      display:flex;\n",
              "      gap: 12px;\n",
              "    }\n",
              "\n",
              "    .colab-df-convert {\n",
              "      background-color: #E8F0FE;\n",
              "      border: none;\n",
              "      border-radius: 50%;\n",
              "      cursor: pointer;\n",
              "      display: none;\n",
              "      fill: #1967D2;\n",
              "      height: 32px;\n",
              "      padding: 0 0 0 0;\n",
              "      width: 32px;\n",
              "    }\n",
              "\n",
              "    .colab-df-convert:hover {\n",
              "      background-color: #E2EBFA;\n",
              "      box-shadow: 0px 1px 2px rgba(60, 64, 67, 0.3), 0px 1px 3px 1px rgba(60, 64, 67, 0.15);\n",
              "      fill: #174EA6;\n",
              "    }\n",
              "\n",
              "    .colab-df-buttons div {\n",
              "      margin-bottom: 4px;\n",
              "    }\n",
              "\n",
              "    [theme=dark] .colab-df-convert {\n",
              "      background-color: #3B4455;\n",
              "      fill: #D2E3FC;\n",
              "    }\n",
              "\n",
              "    [theme=dark] .colab-df-convert:hover {\n",
              "      background-color: #434B5C;\n",
              "      box-shadow: 0px 1px 3px 1px rgba(0, 0, 0, 0.15);\n",
              "      filter: drop-shadow(0px 1px 2px rgba(0, 0, 0, 0.3));\n",
              "      fill: #FFFFFF;\n",
              "    }\n",
              "  </style>\n",
              "\n",
              "    <script>\n",
              "      const buttonEl =\n",
              "        document.querySelector('#df-ef6cd58f-3981-443e-bcc3-6f70ebd5fc4e button.colab-df-convert');\n",
              "      buttonEl.style.display =\n",
              "        google.colab.kernel.accessAllowed ? 'block' : 'none';\n",
              "\n",
              "      async function convertToInteractive(key) {\n",
              "        const element = document.querySelector('#df-ef6cd58f-3981-443e-bcc3-6f70ebd5fc4e');\n",
              "        const dataTable =\n",
              "          await google.colab.kernel.invokeFunction('convertToInteractive',\n",
              "                                                    [key], {});\n",
              "        if (!dataTable) return;\n",
              "\n",
              "        const docLinkHtml = 'Like what you see? Visit the ' +\n",
              "          '<a target=\"_blank\" href=https://colab.research.google.com/notebooks/data_table.ipynb>data table notebook</a>'\n",
              "          + ' to learn more about interactive tables.';\n",
              "        element.innerHTML = '';\n",
              "        dataTable['output_type'] = 'display_data';\n",
              "        await google.colab.output.renderOutput(dataTable, element);\n",
              "        const docLink = document.createElement('div');\n",
              "        docLink.innerHTML = docLinkHtml;\n",
              "        element.appendChild(docLink);\n",
              "      }\n",
              "    </script>\n",
              "  </div>\n",
              "\n",
              "\n",
              "<div id=\"df-ed223397-6b1b-44f9-9e73-a68cd6714092\">\n",
              "  <button class=\"colab-df-quickchart\" onclick=\"quickchart('df-ed223397-6b1b-44f9-9e73-a68cd6714092')\"\n",
              "            title=\"Suggest charts\"\n",
              "            style=\"display:none;\">\n",
              "\n",
              "<svg xmlns=\"http://www.w3.org/2000/svg\" height=\"24px\"viewBox=\"0 0 24 24\"\n",
              "     width=\"24px\">\n",
              "    <g>\n",
              "        <path d=\"M19 3H5c-1.1 0-2 .9-2 2v14c0 1.1.9 2 2 2h14c1.1 0 2-.9 2-2V5c0-1.1-.9-2-2-2zM9 17H7v-7h2v7zm4 0h-2V7h2v10zm4 0h-2v-4h2v4z\"/>\n",
              "    </g>\n",
              "</svg>\n",
              "  </button>\n",
              "\n",
              "<style>\n",
              "  .colab-df-quickchart {\n",
              "      --bg-color: #E8F0FE;\n",
              "      --fill-color: #1967D2;\n",
              "      --hover-bg-color: #E2EBFA;\n",
              "      --hover-fill-color: #174EA6;\n",
              "      --disabled-fill-color: #AAA;\n",
              "      --disabled-bg-color: #DDD;\n",
              "  }\n",
              "\n",
              "  [theme=dark] .colab-df-quickchart {\n",
              "      --bg-color: #3B4455;\n",
              "      --fill-color: #D2E3FC;\n",
              "      --hover-bg-color: #434B5C;\n",
              "      --hover-fill-color: #FFFFFF;\n",
              "      --disabled-bg-color: #3B4455;\n",
              "      --disabled-fill-color: #666;\n",
              "  }\n",
              "\n",
              "  .colab-df-quickchart {\n",
              "    background-color: var(--bg-color);\n",
              "    border: none;\n",
              "    border-radius: 50%;\n",
              "    cursor: pointer;\n",
              "    display: none;\n",
              "    fill: var(--fill-color);\n",
              "    height: 32px;\n",
              "    padding: 0;\n",
              "    width: 32px;\n",
              "  }\n",
              "\n",
              "  .colab-df-quickchart:hover {\n",
              "    background-color: var(--hover-bg-color);\n",
              "    box-shadow: 0 1px 2px rgba(60, 64, 67, 0.3), 0 1px 3px 1px rgba(60, 64, 67, 0.15);\n",
              "    fill: var(--button-hover-fill-color);\n",
              "  }\n",
              "\n",
              "  .colab-df-quickchart-complete:disabled,\n",
              "  .colab-df-quickchart-complete:disabled:hover {\n",
              "    background-color: var(--disabled-bg-color);\n",
              "    fill: var(--disabled-fill-color);\n",
              "    box-shadow: none;\n",
              "  }\n",
              "\n",
              "  .colab-df-spinner {\n",
              "    border: 2px solid var(--fill-color);\n",
              "    border-color: transparent;\n",
              "    border-bottom-color: var(--fill-color);\n",
              "    animation:\n",
              "      spin 1s steps(1) infinite;\n",
              "  }\n",
              "\n",
              "  @keyframes spin {\n",
              "    0% {\n",
              "      border-color: transparent;\n",
              "      border-bottom-color: var(--fill-color);\n",
              "      border-left-color: var(--fill-color);\n",
              "    }\n",
              "    20% {\n",
              "      border-color: transparent;\n",
              "      border-left-color: var(--fill-color);\n",
              "      border-top-color: var(--fill-color);\n",
              "    }\n",
              "    30% {\n",
              "      border-color: transparent;\n",
              "      border-left-color: var(--fill-color);\n",
              "      border-top-color: var(--fill-color);\n",
              "      border-right-color: var(--fill-color);\n",
              "    }\n",
              "    40% {\n",
              "      border-color: transparent;\n",
              "      border-right-color: var(--fill-color);\n",
              "      border-top-color: var(--fill-color);\n",
              "    }\n",
              "    60% {\n",
              "      border-color: transparent;\n",
              "      border-right-color: var(--fill-color);\n",
              "    }\n",
              "    80% {\n",
              "      border-color: transparent;\n",
              "      border-right-color: var(--fill-color);\n",
              "      border-bottom-color: var(--fill-color);\n",
              "    }\n",
              "    90% {\n",
              "      border-color: transparent;\n",
              "      border-bottom-color: var(--fill-color);\n",
              "    }\n",
              "  }\n",
              "</style>\n",
              "\n",
              "  <script>\n",
              "    async function quickchart(key) {\n",
              "      const quickchartButtonEl =\n",
              "        document.querySelector('#' + key + ' button');\n",
              "      quickchartButtonEl.disabled = true;  // To prevent multiple clicks.\n",
              "      quickchartButtonEl.classList.add('colab-df-spinner');\n",
              "      try {\n",
              "        const charts = await google.colab.kernel.invokeFunction(\n",
              "            'suggestCharts', [key], {});\n",
              "      } catch (error) {\n",
              "        console.error('Error during call to suggestCharts:', error);\n",
              "      }\n",
              "      quickchartButtonEl.classList.remove('colab-df-spinner');\n",
              "      quickchartButtonEl.classList.add('colab-df-quickchart-complete');\n",
              "    }\n",
              "    (() => {\n",
              "      let quickchartButtonEl =\n",
              "        document.querySelector('#df-ed223397-6b1b-44f9-9e73-a68cd6714092 button');\n",
              "      quickchartButtonEl.style.display =\n",
              "        google.colab.kernel.accessAllowed ? 'block' : 'none';\n",
              "    })();\n",
              "  </script>\n",
              "</div>\n",
              "    </div>\n",
              "  </div>\n"
            ]
          },
          "metadata": {},
          "execution_count": 104
        }
      ]
    },
    {
      "cell_type": "code",
      "source": [
        "train_set.contexts.to_csv('reviews.csv', sep='|', index=False)"
      ],
      "metadata": {
        "id": "SPM9vPb7LxGM"
      },
      "execution_count": 105,
      "outputs": []
    },
    {
      "cell_type": "code",
      "source": [
        "files.download('reviews.csv')"
      ],
      "metadata": {
        "colab": {
          "base_uri": "https://localhost:8080/",
          "height": 17
        },
        "id": "lsHsRkQLLxI0",
        "outputId": "e77ec91b-6dde-4e91-f109-c11d786e8e21"
      },
      "execution_count": null,
      "outputs": [
        {
          "output_type": "display_data",
          "data": {
            "text/plain": [
              "<IPython.core.display.Javascript object>"
            ],
            "application/javascript": [
              "\n",
              "    async function download(id, filename, size) {\n",
              "      if (!google.colab.kernel.accessAllowed) {\n",
              "        return;\n",
              "      }\n",
              "      const div = document.createElement('div');\n",
              "      const label = document.createElement('label');\n",
              "      label.textContent = `Downloading \"${filename}\": `;\n",
              "      div.appendChild(label);\n",
              "      const progress = document.createElement('progress');\n",
              "      progress.max = size;\n",
              "      div.appendChild(progress);\n",
              "      document.body.appendChild(div);\n",
              "\n",
              "      const buffers = [];\n",
              "      let downloaded = 0;\n",
              "\n",
              "      const channel = await google.colab.kernel.comms.open(id);\n",
              "      // Send a message to notify the kernel that we're ready.\n",
              "      channel.send({})\n",
              "\n",
              "      for await (const message of channel.messages) {\n",
              "        // Send a message to notify the kernel that we're ready.\n",
              "        channel.send({})\n",
              "        if (message.buffers) {\n",
              "          for (const buffer of message.buffers) {\n",
              "            buffers.push(buffer);\n",
              "            downloaded += buffer.byteLength;\n",
              "            progress.value = downloaded;\n",
              "          }\n",
              "        }\n",
              "      }\n",
              "      const blob = new Blob(buffers, {type: 'application/binary'});\n",
              "      const a = document.createElement('a');\n",
              "      a.href = window.URL.createObjectURL(blob);\n",
              "      a.download = filename;\n",
              "      div.appendChild(a);\n",
              "      a.click();\n",
              "      div.remove();\n",
              "    }\n",
              "  "
            ]
          },
          "metadata": {}
        },
        {
          "output_type": "display_data",
          "data": {
            "text/plain": [
              "<IPython.core.display.Javascript object>"
            ],
            "application/javascript": [
              "download(\"download_dbe3ff3e-ea4e-4ae2-88a3-c775b1bb02ac\", \"reviews.csv\", 1504218)"
            ]
          },
          "metadata": {}
        }
      ]
    },
    {
      "cell_type": "code",
      "source": [
        "with open('reviews.csv', newline='') as csvfile:\n",
        "    spamreader = csv.reader(csvfile, delimiter='|')\n",
        "    reviews = []\n",
        "    for row in spamreader:\n",
        "        reviews.append(row)"
      ],
      "metadata": {
        "id": "D2VLKfy5LxLg"
      },
      "execution_count": 106,
      "outputs": []
    },
    {
      "cell_type": "code",
      "source": [
        "reviews[2]"
      ],
      "metadata": {
        "colab": {
          "base_uri": "https://localhost:8080/"
        },
        "id": "e5c84nptjiU6",
        "outputId": "d7c0d79b-89de-4afe-a952-16c4196d165d"
      },
      "execution_count": 107,
      "outputs": [
        {
          "output_type": "execute_result",
          "data": {
            "text/plain": [
              "['3976',\n",
              " 'ресторанах',\n",
              " 'Whole',\n",
              " 'Решил написать отзыв о ресторане в котором отметили прекрасный весений праздник, прочитал отзывы edik077 и Rules77777и понял что либо мы были вразных ресторанах, либо у ребят что-то незаладилось.',\n",
              " 'neutral']"
            ]
          },
          "metadata": {},
          "execution_count": 107
        }
      ]
    },
    {
      "cell_type": "markdown",
      "source": [
        "## Лемматизация отзывов"
      ],
      "metadata": {
        "id": "uAe1Gbn4Usxl"
      }
    },
    {
      "cell_type": "code",
      "source": [
        "from tqdm import tqdm"
      ],
      "metadata": {
        "id": "1h-T2HNx5WNl"
      },
      "execution_count": 108,
      "outputs": []
    },
    {
      "cell_type": "code",
      "source": [
        "import pymystem3\n",
        "mystem=pymystem3.Mystem()"
      ],
      "metadata": {
        "id": "ExEDHsipQTaH"
      },
      "execution_count": 109,
      "outputs": []
    },
    {
      "cell_type": "code",
      "source": [
        "! pip install stop-words"
      ],
      "metadata": {
        "colab": {
          "base_uri": "https://localhost:8080/"
        },
        "id": "iOsjwT_kTKEd",
        "outputId": "75d1b470-7dc8-4de3-e505-b58be951840d"
      },
      "execution_count": 110,
      "outputs": [
        {
          "output_type": "stream",
          "name": "stdout",
          "text": [
            "Requirement already satisfied: stop-words in /usr/local/lib/python3.10/dist-packages (2018.7.23)\n"
          ]
        }
      ]
    },
    {
      "cell_type": "code",
      "source": [
        "from stop_words import get_stop_words"
      ],
      "metadata": {
        "id": "FZndZ5YtbSX-"
      },
      "execution_count": 111,
      "outputs": []
    },
    {
      "cell_type": "code",
      "source": [
        "stop_words = get_stop_words('ru')"
      ],
      "metadata": {
        "id": "p_tNFhE6bTgp"
      },
      "execution_count": 112,
      "outputs": []
    },
    {
      "cell_type": "code",
      "source": [
        "# оставляем эти слова для некоторых экспериментов\n",
        "stop_words.remove('не')\n",
        "stop_words.remove('нет')\n",
        "stop_words.remove('спасибо')"
      ],
      "metadata": {
        "id": "LzdKvmNvbZp6"
      },
      "execution_count": 115,
      "outputs": []
    },
    {
      "cell_type": "code",
      "source": [
        "# лемматизация\n",
        "def reviews_preparation(li_revievs):\n",
        "  lem_reviews = []\n",
        "  for review in tqdm(li_revievs):\n",
        "    rev = review\n",
        "    rev[1] = ''.join(mystem.lemmatize(rev[1])).strip('\\n')\n",
        "\n",
        "    text = rev[3].split()\n",
        "    clean = []\n",
        "    for w in text:\n",
        "      w = w.rstrip()\n",
        "      w = w.strip('.,:;?!\\\"\\')(#·№*@\\/-')\n",
        "      # исправление опечаток занимает много времени, лучше применять на небольших данных\n",
        "      #w = spellcheck(w)\n",
        "      if w not in stop_words and w.isalpha():\n",
        "        clean.append(w)\n",
        "    clean_text = ' '.join(clean)\n",
        "    rev[3] = ''.join(mystem.lemmatize(clean_text))\n",
        "    rev[3] = rev[3].strip('\\n')\n",
        "    lem_reviews.append(rev)\n",
        "\n",
        "  return lem_reviews"
      ],
      "metadata": {
        "id": "QVXo69A73jPJ"
      },
      "execution_count": 114,
      "outputs": []
    },
    {
      "cell_type": "code",
      "source": [
        "part1 = reviews_preparation(reviews[1:800]) # с исправлением опечаток (шестая часть отзывов)"
      ],
      "metadata": {
        "colab": {
          "base_uri": "https://localhost:8080/"
        },
        "id": "b80OmeAbBQlF",
        "outputId": "ff641bcd-69cd-48c3-b3d2-e931820aea7f"
      },
      "execution_count": null,
      "outputs": [
        {
          "output_type": "stream",
          "name": "stderr",
          "text": [
            "100%|██████████| 799/799 [2:43:18<00:00, 12.26s/it]\n"
          ]
        }
      ]
    },
    {
      "cell_type": "code",
      "source": [
        "with open('reviews_lem.csv', 'w', encoding='utf-8') as csvfile:\n",
        "    csvwriter = csv.writer(csvfile)\n",
        "    csvwriter.writerow(reviews[0])\n",
        "    csvwriter.writerows(part1)"
      ],
      "metadata": {
        "id": "sj9CBfHYnJxl"
      },
      "execution_count": null,
      "outputs": []
    },
    {
      "cell_type": "code",
      "source": [
        "files.download('reviews_lem.csv')"
      ],
      "metadata": {
        "colab": {
          "base_uri": "https://localhost:8080/",
          "height": 17
        },
        "id": "hB8Tjr2jnghJ",
        "outputId": "b8945578-1186-469e-8e30-625a6178c19a"
      },
      "execution_count": null,
      "outputs": [
        {
          "output_type": "display_data",
          "data": {
            "text/plain": [
              "<IPython.core.display.Javascript object>"
            ],
            "application/javascript": [
              "\n",
              "    async function download(id, filename, size) {\n",
              "      if (!google.colab.kernel.accessAllowed) {\n",
              "        return;\n",
              "      }\n",
              "      const div = document.createElement('div');\n",
              "      const label = document.createElement('label');\n",
              "      label.textContent = `Downloading \"${filename}\": `;\n",
              "      div.appendChild(label);\n",
              "      const progress = document.createElement('progress');\n",
              "      progress.max = size;\n",
              "      div.appendChild(progress);\n",
              "      document.body.appendChild(div);\n",
              "\n",
              "      const buffers = [];\n",
              "      let downloaded = 0;\n",
              "\n",
              "      const channel = await google.colab.kernel.comms.open(id);\n",
              "      // Send a message to notify the kernel that we're ready.\n",
              "      channel.send({})\n",
              "\n",
              "      for await (const message of channel.messages) {\n",
              "        // Send a message to notify the kernel that we're ready.\n",
              "        channel.send({})\n",
              "        if (message.buffers) {\n",
              "          for (const buffer of message.buffers) {\n",
              "            buffers.push(buffer);\n",
              "            downloaded += buffer.byteLength;\n",
              "            progress.value = downloaded;\n",
              "          }\n",
              "        }\n",
              "      }\n",
              "      const blob = new Blob(buffers, {type: 'application/binary'});\n",
              "      const a = document.createElement('a');\n",
              "      a.href = window.URL.createObjectURL(blob);\n",
              "      a.download = filename;\n",
              "      div.appendChild(a);\n",
              "      a.click();\n",
              "      div.remove();\n",
              "    }\n",
              "  "
            ]
          },
          "metadata": {}
        },
        {
          "output_type": "display_data",
          "data": {
            "text/plain": [
              "<IPython.core.display.Javascript object>"
            ],
            "application/javascript": [
              "download(\"download_c8399c81-01d2-419d-9f0e-6b6c8eccb37f\", \"reviews_lem.csv\", 158022)"
            ]
          },
          "metadata": {}
        }
      ]
    },
    {
      "cell_type": "code",
      "source": [
        "lem_reviews = reviews_preparation(reviews) # без исправления опечаток (все отзывы train)"
      ],
      "metadata": {
        "colab": {
          "base_uri": "https://localhost:8080/"
        },
        "id": "68BVmwlYy-R5",
        "outputId": "d8e1432d-ae33-40b3-8bdd-33d4d1151a82"
      },
      "execution_count": 116,
      "outputs": [
        {
          "output_type": "stream",
          "name": "stderr",
          "text": [
            "100%|██████████| 4764/4764 [00:04<00:00, 952.93it/s] \n"
          ]
        }
      ]
    },
    {
      "cell_type": "code",
      "source": [
        "answers = []\n",
        "for i in lem_reviews:\n",
        "  answers.append(i[4])"
      ],
      "metadata": {
        "id": "A4jEFELBa4nL"
      },
      "execution_count": 117,
      "outputs": []
    },
    {
      "cell_type": "markdown",
      "source": [
        "## Эксперименты\n",
        "### (От наименее удачных к наиболее удачным)"
      ],
      "metadata": {
        "id": "tARbUhVcZDiB"
      }
    },
    {
      "cell_type": "markdown",
      "source": [
        "#### №1. Считаем эмоционально-оценочный заряд всего контекста (складываем заряды всех слов и делим на количество слов в контексте (таргетное слово не учитывается))."
      ],
      "metadata": {
        "id": "7clzl_xlZ9Xe"
      }
    },
    {
      "cell_type": "code",
      "source": [
        "def mean_sentiment(texts):\n",
        "  res = []\n",
        "  zero_contexts = 0\n",
        "  zero_texts = []\n",
        "  for i in texts:\n",
        "\n",
        "    target_word = i[1].split()\n",
        "    context = i[3].split()\n",
        "\n",
        "    context_score = 0\n",
        "    known = 0\n",
        "\n",
        "    for word in context:\n",
        "      if word not in target_word and word in dct_sentiment.keys():\n",
        "        known += 1\n",
        "        context_score += float(dct_sentiment[word][1])\n",
        "\n",
        "    if known == 0:\n",
        "      zero_contexts += 1\n",
        "      zero_texts.append(i[3])\n",
        "\n",
        "    if known > 0:\n",
        "      res.append(context_score / known)\n",
        "    else:\n",
        "      res.append(0)\n",
        "\n",
        "  res_mapping = []\n",
        "  for j in res:\n",
        "    if j >= 0.09:\n",
        "      res_mapping.append('positive')\n",
        "    elif j <= 0.03:\n",
        "      res_mapping.append('negative')\n",
        "    else:\n",
        "      res_mapping.append('neutral')\n",
        "\n",
        "  return res_mapping"
      ],
      "metadata": {
        "id": "e1Rm8Y0bW6ii"
      },
      "execution_count": 118,
      "outputs": []
    },
    {
      "cell_type": "code",
      "source": [
        "from sklearn.metrics import accuracy_score"
      ],
      "metadata": {
        "id": "a9IHTKyKUpc8"
      },
      "execution_count": 119,
      "outputs": []
    },
    {
      "cell_type": "code",
      "source": [
        "res_mean_sentiment = mean_sentiment(lem_reviews)"
      ],
      "metadata": {
        "id": "PNxms9fOX4l5"
      },
      "execution_count": 120,
      "outputs": []
    },
    {
      "cell_type": "code",
      "source": [
        "accuracy_score(answers, res_mean_sentiment)"
      ],
      "metadata": {
        "colab": {
          "base_uri": "https://localhost:8080/"
        },
        "id": "iZLZPd8uYcRm",
        "outputId": "8ef640bf-73e8-4e4e-f1ce-76b65f77f39f"
      },
      "execution_count": 121,
      "outputs": [
        {
          "output_type": "execute_result",
          "data": {
            "text/plain": [
              "0.6488245172124265"
            ]
          },
          "metadata": {},
          "execution_count": 121
        }
      ]
    },
    {
      "cell_type": "markdown",
      "source": [
        "Результат со спеллчекером приведен ниже. Можно заметить, что точность предсказаний с исправлением опечаток чуть ниже, чем точность без исправления. Это может быть связано с тем, что какие-то слова исправляются неверно. В следующих экспериментах мы используем полный набор данных без применения функции исправления ошибок."
      ],
      "metadata": {
        "id": "uBClXRBh-tKU"
      }
    },
    {
      "cell_type": "code",
      "source": [
        "upl = files.upload()"
      ],
      "metadata": {
        "colab": {
          "base_uri": "https://localhost:8080/",
          "height": 73
        },
        "id": "PdqXDZZX-sZB",
        "outputId": "a5140016-098d-4874-f159-eb8156a89cd5"
      },
      "execution_count": 125,
      "outputs": [
        {
          "output_type": "display_data",
          "data": {
            "text/plain": [
              "<IPython.core.display.HTML object>"
            ],
            "text/html": [
              "\n",
              "     <input type=\"file\" id=\"files-93fbd84a-111f-43c9-930e-e005f84cf969\" name=\"files[]\" multiple disabled\n",
              "        style=\"border:none\" />\n",
              "     <output id=\"result-93fbd84a-111f-43c9-930e-e005f84cf969\">\n",
              "      Upload widget is only available when the cell has been executed in the\n",
              "      current browser session. Please rerun this cell to enable.\n",
              "      </output>\n",
              "      <script>// Copyright 2017 Google LLC\n",
              "//\n",
              "// Licensed under the Apache License, Version 2.0 (the \"License\");\n",
              "// you may not use this file except in compliance with the License.\n",
              "// You may obtain a copy of the License at\n",
              "//\n",
              "//      http://www.apache.org/licenses/LICENSE-2.0\n",
              "//\n",
              "// Unless required by applicable law or agreed to in writing, software\n",
              "// distributed under the License is distributed on an \"AS IS\" BASIS,\n",
              "// WITHOUT WARRANTIES OR CONDITIONS OF ANY KIND, either express or implied.\n",
              "// See the License for the specific language governing permissions and\n",
              "// limitations under the License.\n",
              "\n",
              "/**\n",
              " * @fileoverview Helpers for google.colab Python module.\n",
              " */\n",
              "(function(scope) {\n",
              "function span(text, styleAttributes = {}) {\n",
              "  const element = document.createElement('span');\n",
              "  element.textContent = text;\n",
              "  for (const key of Object.keys(styleAttributes)) {\n",
              "    element.style[key] = styleAttributes[key];\n",
              "  }\n",
              "  return element;\n",
              "}\n",
              "\n",
              "// Max number of bytes which will be uploaded at a time.\n",
              "const MAX_PAYLOAD_SIZE = 100 * 1024;\n",
              "\n",
              "function _uploadFiles(inputId, outputId) {\n",
              "  const steps = uploadFilesStep(inputId, outputId);\n",
              "  const outputElement = document.getElementById(outputId);\n",
              "  // Cache steps on the outputElement to make it available for the next call\n",
              "  // to uploadFilesContinue from Python.\n",
              "  outputElement.steps = steps;\n",
              "\n",
              "  return _uploadFilesContinue(outputId);\n",
              "}\n",
              "\n",
              "// This is roughly an async generator (not supported in the browser yet),\n",
              "// where there are multiple asynchronous steps and the Python side is going\n",
              "// to poll for completion of each step.\n",
              "// This uses a Promise to block the python side on completion of each step,\n",
              "// then passes the result of the previous step as the input to the next step.\n",
              "function _uploadFilesContinue(outputId) {\n",
              "  const outputElement = document.getElementById(outputId);\n",
              "  const steps = outputElement.steps;\n",
              "\n",
              "  const next = steps.next(outputElement.lastPromiseValue);\n",
              "  return Promise.resolve(next.value.promise).then((value) => {\n",
              "    // Cache the last promise value to make it available to the next\n",
              "    // step of the generator.\n",
              "    outputElement.lastPromiseValue = value;\n",
              "    return next.value.response;\n",
              "  });\n",
              "}\n",
              "\n",
              "/**\n",
              " * Generator function which is called between each async step of the upload\n",
              " * process.\n",
              " * @param {string} inputId Element ID of the input file picker element.\n",
              " * @param {string} outputId Element ID of the output display.\n",
              " * @return {!Iterable<!Object>} Iterable of next steps.\n",
              " */\n",
              "function* uploadFilesStep(inputId, outputId) {\n",
              "  const inputElement = document.getElementById(inputId);\n",
              "  inputElement.disabled = false;\n",
              "\n",
              "  const outputElement = document.getElementById(outputId);\n",
              "  outputElement.innerHTML = '';\n",
              "\n",
              "  const pickedPromise = new Promise((resolve) => {\n",
              "    inputElement.addEventListener('change', (e) => {\n",
              "      resolve(e.target.files);\n",
              "    });\n",
              "  });\n",
              "\n",
              "  const cancel = document.createElement('button');\n",
              "  inputElement.parentElement.appendChild(cancel);\n",
              "  cancel.textContent = 'Cancel upload';\n",
              "  const cancelPromise = new Promise((resolve) => {\n",
              "    cancel.onclick = () => {\n",
              "      resolve(null);\n",
              "    };\n",
              "  });\n",
              "\n",
              "  // Wait for the user to pick the files.\n",
              "  const files = yield {\n",
              "    promise: Promise.race([pickedPromise, cancelPromise]),\n",
              "    response: {\n",
              "      action: 'starting',\n",
              "    }\n",
              "  };\n",
              "\n",
              "  cancel.remove();\n",
              "\n",
              "  // Disable the input element since further picks are not allowed.\n",
              "  inputElement.disabled = true;\n",
              "\n",
              "  if (!files) {\n",
              "    return {\n",
              "      response: {\n",
              "        action: 'complete',\n",
              "      }\n",
              "    };\n",
              "  }\n",
              "\n",
              "  for (const file of files) {\n",
              "    const li = document.createElement('li');\n",
              "    li.append(span(file.name, {fontWeight: 'bold'}));\n",
              "    li.append(span(\n",
              "        `(${file.type || 'n/a'}) - ${file.size} bytes, ` +\n",
              "        `last modified: ${\n",
              "            file.lastModifiedDate ? file.lastModifiedDate.toLocaleDateString() :\n",
              "                                    'n/a'} - `));\n",
              "    const percent = span('0% done');\n",
              "    li.appendChild(percent);\n",
              "\n",
              "    outputElement.appendChild(li);\n",
              "\n",
              "    const fileDataPromise = new Promise((resolve) => {\n",
              "      const reader = new FileReader();\n",
              "      reader.onload = (e) => {\n",
              "        resolve(e.target.result);\n",
              "      };\n",
              "      reader.readAsArrayBuffer(file);\n",
              "    });\n",
              "    // Wait for the data to be ready.\n",
              "    let fileData = yield {\n",
              "      promise: fileDataPromise,\n",
              "      response: {\n",
              "        action: 'continue',\n",
              "      }\n",
              "    };\n",
              "\n",
              "    // Use a chunked sending to avoid message size limits. See b/62115660.\n",
              "    let position = 0;\n",
              "    do {\n",
              "      const length = Math.min(fileData.byteLength - position, MAX_PAYLOAD_SIZE);\n",
              "      const chunk = new Uint8Array(fileData, position, length);\n",
              "      position += length;\n",
              "\n",
              "      const base64 = btoa(String.fromCharCode.apply(null, chunk));\n",
              "      yield {\n",
              "        response: {\n",
              "          action: 'append',\n",
              "          file: file.name,\n",
              "          data: base64,\n",
              "        },\n",
              "      };\n",
              "\n",
              "      let percentDone = fileData.byteLength === 0 ?\n",
              "          100 :\n",
              "          Math.round((position / fileData.byteLength) * 100);\n",
              "      percent.textContent = `${percentDone}% done`;\n",
              "\n",
              "    } while (position < fileData.byteLength);\n",
              "  }\n",
              "\n",
              "  // All done.\n",
              "  yield {\n",
              "    response: {\n",
              "      action: 'complete',\n",
              "    }\n",
              "  };\n",
              "}\n",
              "\n",
              "scope.google = scope.google || {};\n",
              "scope.google.colab = scope.google.colab || {};\n",
              "scope.google.colab._files = {\n",
              "  _uploadFiles,\n",
              "  _uploadFilesContinue,\n",
              "};\n",
              "})(self);\n",
              "</script> "
            ]
          },
          "metadata": {}
        },
        {
          "output_type": "stream",
          "name": "stdout",
          "text": [
            "Saving reviews_lem.csv to reviews_lem (1).csv\n"
          ]
        }
      ]
    },
    {
      "cell_type": "code",
      "source": [
        "with open('reviews_lem.csv', 'r', encoding='utf-8') as f:\n",
        "  reader = csv.reader(f)\n",
        "  spell_checked = []\n",
        "  for row in reader:\n",
        "        spell_checked.append(row)"
      ],
      "metadata": {
        "id": "Zo6FvXGv-_nx"
      },
      "execution_count": 126,
      "outputs": []
    },
    {
      "cell_type": "code",
      "source": [
        "answers_part1 = []\n",
        "for i in spell_checked:\n",
        "  answers_part1.append(i[4])"
      ],
      "metadata": {
        "id": "evMPXwb0psvW"
      },
      "execution_count": 127,
      "outputs": []
    },
    {
      "cell_type": "code",
      "source": [
        "res_spelled = mean_sentiment(spell_checked)"
      ],
      "metadata": {
        "id": "y4F6hPzZRJZx"
      },
      "execution_count": 128,
      "outputs": []
    },
    {
      "cell_type": "code",
      "source": [
        "accuracy_score(answers_part1, res_spelled) # точность со спеллчекером"
      ],
      "metadata": {
        "colab": {
          "base_uri": "https://localhost:8080/"
        },
        "id": "Z8_xh7UHhpAq",
        "outputId": "b0388f31-b68a-4fc9-d9fa-9e9151fbeb5f"
      },
      "execution_count": 129,
      "outputs": [
        {
          "output_type": "execute_result",
          "data": {
            "text/plain": [
              "0.60875"
            ]
          },
          "metadata": {},
          "execution_count": 129
        }
      ]
    },
    {
      "cell_type": "code",
      "source": [
        "accuracy_score(answers[:800], res_mean_sentiment[:800]) # точность без спеллчекера"
      ],
      "metadata": {
        "colab": {
          "base_uri": "https://localhost:8080/"
        },
        "id": "wdr0p5UJRYtA",
        "outputId": "c123930f-33a2-499a-cd7e-6fa32f096759"
      },
      "execution_count": 130,
      "outputs": [
        {
          "output_type": "execute_result",
          "data": {
            "text/plain": [
              "0.6125"
            ]
          },
          "metadata": {},
          "execution_count": 130
        }
      ]
    },
    {
      "cell_type": "markdown",
      "source": [
        "#### №2. Считаем теги из тонального словаря за -1 (отрицательная оценка), 0 (нейтральная оценка) и 1 (положительная оценка), на основе итоговой суммы приписываем ответ."
      ],
      "metadata": {
        "id": "vZSrqOOk8WNF"
      }
    },
    {
      "cell_type": "code",
      "source": [
        "def dict_tags(texts):\n",
        "  res = []\n",
        "  for i in texts:\n",
        "\n",
        "    target_word = i[1].split()\n",
        "    context = i[3].split()\n",
        "\n",
        "    context_score = 0\n",
        "\n",
        "    for word in context:\n",
        "      if word not in target_word and word in dct_sentiment.keys():\n",
        "        if dct_sentiment[word][0] == 'PSTV':\n",
        "          context_score += 1\n",
        "        elif dct_sentiment[word][0] == 'NGTV':\n",
        "          context_score -= 1\n",
        "\n",
        "    if context_score > 0:\n",
        "      res.append('positive')\n",
        "    elif context_score < 0:\n",
        "      res.append('negative')\n",
        "    else:\n",
        "      res.append('neutral')\n",
        "  return res"
      ],
      "metadata": {
        "id": "_Dryp9Gj2k3C"
      },
      "execution_count": 131,
      "outputs": []
    },
    {
      "cell_type": "code",
      "source": [
        "res_dict_tags = dict_tags(lem_reviews)"
      ],
      "metadata": {
        "id": "hYYEVKp82z07"
      },
      "execution_count": 132,
      "outputs": []
    },
    {
      "cell_type": "code",
      "source": [
        "accuracy_score(answers, res_dict_tags) # точность"
      ],
      "metadata": {
        "colab": {
          "base_uri": "https://localhost:8080/"
        },
        "id": "DtWsG_4825Eg",
        "outputId": "b9df25e7-d280-4a59-9a0c-c91c8462fdce"
      },
      "execution_count": 133,
      "outputs": [
        {
          "output_type": "execute_result",
          "data": {
            "text/plain": [
              "0.624895046179681"
            ]
          },
          "metadata": {},
          "execution_count": 133
        }
      ]
    },
    {
      "cell_type": "markdown",
      "source": [
        "#### №3. Берем два \"самых негативных\" и два \"самых позитивных\" слова из всего контекста (то есть те слова из контекста, у которых наибольшее/наименьшее значение по тональному словарю). Если сумма значений положительно окрашенных слов больше по модулю суммы значений отрицательно окрашенных слов, то считаем, что контекст содержит позитивное отношение, если сумма меньше -- контекст содержит негативное отношение. Если разница незначительна, контекст нейтрален.\n",
        "\n",
        "#### По отзывам заметно, что, когда посетитель положительно относится к заведению, в конце текста часто есть слова благодарности. Как правило, это гарантирует тег \"positive\" (поэтому контексты со словами \"спасибо\" и \"благодарность\" учитываются отдельно)."
      ],
      "metadata": {
        "id": "1R4XAmOys2TE"
      }
    },
    {
      "cell_type": "code",
      "source": [
        "def max_min_sentiment(texts):\n",
        "  res = []\n",
        "\n",
        "  for i in texts:\n",
        "\n",
        "    target_word = i[1].split()\n",
        "    context = i[3].split()\n",
        "\n",
        "    context_score = 0\n",
        "\n",
        "    all_scores = []\n",
        "\n",
        "    thanks = False\n",
        "    for word in context:\n",
        "      if word in ['спасибо', 'благодарность']:\n",
        "        thanks = True\n",
        "      if word not in target_word and word in dct_sentiment.keys():\n",
        "        context_score += float(dct_sentiment[word][1])\n",
        "        all_scores.append(float(dct_sentiment[word][1]))\n",
        "\n",
        "    if thanks == True:\n",
        "      res.append('positive')\n",
        "    else:\n",
        "      all_scores.sort()\n",
        "      if len(all_scores) > 1:\n",
        "        max_score = all_scores[-1]\n",
        "        mx_score = all_scores[-2]\n",
        "        min_score = all_scores[0]\n",
        "        mn_score = all_scores[1]\n",
        "      elif len(all_scores) == 1:\n",
        "        max_score = all_scores[-1]\n",
        "        mx_score = 0\n",
        "        min_score = all_scores[0]\n",
        "        mn_score = 0\n",
        "      else:\n",
        "        max_score = 0\n",
        "        mx_score = 0\n",
        "        min_score = 0\n",
        "        mn_score = 0\n",
        "      if max_score + mx_score >= -(min_score + mn_score):\n",
        "        res.append('positive')\n",
        "      elif max_score + mx_score >= -(min_score + mn_score) + 0.02:\n",
        "        res.append('neutral')\n",
        "      else:\n",
        "        res.append('negative')\n",
        "\n",
        "  return res"
      ],
      "metadata": {
        "id": "hVpb0bS7s5Wk"
      },
      "execution_count": 134,
      "outputs": []
    },
    {
      "cell_type": "code",
      "source": [
        "res_max_min = max_min_sentiment(lem_reviews)"
      ],
      "metadata": {
        "id": "RlUcChTNwo_I"
      },
      "execution_count": 135,
      "outputs": []
    },
    {
      "cell_type": "code",
      "source": [
        "accuracy_score(answers, res_max_min) # точность"
      ],
      "metadata": {
        "colab": {
          "base_uri": "https://localhost:8080/"
        },
        "id": "nKm2aPwSw0pP",
        "outputId": "254f69e1-64b8-4a63-bfeb-812c532b90b3"
      },
      "execution_count": 136,
      "outputs": [
        {
          "output_type": "execute_result",
          "data": {
            "text/plain": [
              "0.6582703610411419"
            ]
          },
          "metadata": {},
          "execution_count": 136
        }
      ]
    },
    {
      "cell_type": "markdown",
      "source": [
        "#### №4. Проделываем то же, что в предыдущем способе, но если непосредственно перед словом или после слова есть \"не\", \"нет\", то меняем значений из тонального словаря на противоположное по знаку."
      ],
      "metadata": {
        "id": "ZcGadKRfTK7U"
      }
    },
    {
      "cell_type": "code",
      "source": [
        "# лучшая точность\n",
        "def negation_invert(texts):\n",
        "  res = []\n",
        "  for i in texts:\n",
        "\n",
        "    target_word = i[1].split()\n",
        "    context = [0] + i[3].split() + [0]\n",
        "\n",
        "    all_scores = []\n",
        "\n",
        "    thanks = False\n",
        "    c = 0\n",
        "    for word in context[1:len(context)-1]:\n",
        "      c += 1\n",
        "      if word in ['спасибо', 'благодарность']:\n",
        "        thanks = True\n",
        "      if word not in target_word and word in dct_sentiment.keys():\n",
        "        if context[c-1] in ['не', 'нет'] or context[c+1] in ['не', 'нет']:\n",
        "          all_scores.append(-float(dct_sentiment[word][1]))\n",
        "        else:\n",
        "          all_scores.append(float(dct_sentiment[word][1]))\n",
        "\n",
        "    if thanks == True:\n",
        "      res.append('positive')\n",
        "    else:\n",
        "      all_scores.sort()\n",
        "      if len(all_scores) > 1:\n",
        "        max_score = all_scores[-1]\n",
        "        mx_score = all_scores[-2]\n",
        "        min_score = all_scores[0]\n",
        "        mn_score = all_scores[1]\n",
        "      elif len(all_scores) == 1:\n",
        "        max_score = all_scores[-1]\n",
        "        mx_score = 0\n",
        "        min_score = all_scores[0]\n",
        "        mn_score = 0\n",
        "      else:\n",
        "        max_score = 0\n",
        "        mx_score = 0\n",
        "        min_score = 0\n",
        "        mn_score = 0\n",
        "      if max_score + mx_score >= -(min_score + mn_score):\n",
        "        res.append('positive')\n",
        "      elif max_score + mx_score >= -(min_score + mn_score) + 0.03:\n",
        "        res.append('neutral')\n",
        "      else:\n",
        "        res.append('negative')\n",
        "\n",
        "  return res"
      ],
      "metadata": {
        "id": "iFAGYBGv0OHz"
      },
      "execution_count": 137,
      "outputs": []
    },
    {
      "cell_type": "code",
      "source": [
        "res_negation_invert = negation_invert(lem_reviews)"
      ],
      "metadata": {
        "id": "dTtjdh990iGf"
      },
      "execution_count": 138,
      "outputs": []
    },
    {
      "cell_type": "code",
      "source": [
        "accuracy_score(answers, res_negation_invert) # точность"
      ],
      "metadata": {
        "colab": {
          "base_uri": "https://localhost:8080/"
        },
        "id": "T-Wv-kLi0vQr",
        "outputId": "efc7a1c8-cf4e-4786-fca8-cbc44e438f98"
      },
      "execution_count": 139,
      "outputs": [
        {
          "output_type": "execute_result",
          "data": {
            "text/plain": [
              "0.6752728799328296"
            ]
          },
          "metadata": {},
          "execution_count": 139
        }
      ]
    }
  ]
}